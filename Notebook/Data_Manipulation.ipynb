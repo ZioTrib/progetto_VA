{
 "cells": [
  {
   "cell_type": "markdown",
   "metadata": {},
   "source": [
    "# Libreries"
   ]
  },
  {
   "cell_type": "code",
   "execution_count": 31,
   "metadata": {},
   "outputs": [],
   "source": [
    "%matplotlib inline\n",
    "\n",
    "import numpy as np\n",
    "import pandas as pd\n",
    "import matplotlib.pyplot as plt\n",
    "from collections import defaultdict"
   ]
  },
  {
   "cell_type": "markdown",
   "metadata": {},
   "source": [
    "# Data Import"
   ]
  },
  {
   "cell_type": "code",
   "execution_count": 32,
   "metadata": {},
   "outputs": [],
   "source": [
    "pozzi = pd.read_csv('/Users/danieletribuzio/Documents/GitHub/VA_Project/DataSet/pozzi_4326.csv',\n",
    "                    sep = ';')\n",
    "pozzi_litstr = pd.read_csv('/Users/danieletribuzio/Documents/GitHub/VA_Project/DataSet/pozzi_litstr_epsg4326.csv',\n",
    "                           sep = ';')\n",
    "pozzi_temp = pd.read_csv('/Users/danieletribuzio/Documents/GitHub/VA_Project/DataSet/pozzi_temperature_epsg4326.csv',\n",
    "                         sep = ';')"
   ]
  },
  {
   "cell_type": "markdown",
   "metadata": {},
   "source": [
    "## index selection"
   ]
  },
  {
   "cell_type": "markdown",
   "metadata": {},
   "source": [
    "## missing values for variable `key`"
   ]
  },
  {
   "cell_type": "code",
   "execution_count": 33,
   "metadata": {},
   "outputs": [
    {
     "data": {
      "text/plain": [
       "0"
      ]
     },
     "execution_count": 33,
     "metadata": {},
     "output_type": "execute_result"
    }
   ],
   "source": [
    "pozzi['key'].isnull().sum()"
   ]
  },
  {
   "cell_type": "code",
   "execution_count": 34,
   "metadata": {},
   "outputs": [
    {
     "data": {
      "text/plain": [
       "0"
      ]
     },
     "execution_count": 34,
     "metadata": {},
     "output_type": "execute_result"
    }
   ],
   "source": [
    "pozzi_litstr['key'].isnull().sum()"
   ]
  },
  {
   "cell_type": "code",
   "execution_count": 35,
   "metadata": {},
   "outputs": [
    {
     "data": {
      "text/plain": [
       "0"
      ]
     },
     "execution_count": 35,
     "metadata": {},
     "output_type": "execute_result"
    }
   ],
   "source": [
    "pozzi_temp['key'].isnull().sum()"
   ]
  },
  {
   "cell_type": "code",
   "execution_count": 36,
   "metadata": {},
   "outputs": [
    {
     "data": {
      "text/html": [
       "<div>\n",
       "<style scoped>\n",
       "    .dataframe tbody tr th:only-of-type {\n",
       "        vertical-align: middle;\n",
       "    }\n",
       "\n",
       "    .dataframe tbody tr th {\n",
       "        vertical-align: top;\n",
       "    }\n",
       "\n",
       "    .dataframe thead th {\n",
       "        text-align: right;\n",
       "    }\n",
       "</style>\n",
       "<table border=\"1\" class=\"dataframe\">\n",
       "  <thead>\n",
       "    <tr style=\"text-align: right;\">\n",
       "      <th></th>\n",
       "      <th>oid</th>\n",
       "      <th>nome</th>\n",
       "      <th>lat</th>\n",
       "      <th>lon</th>\n",
       "      <th>quota</th>\n",
       "      <th>entitam</th>\n",
       "      <th>camploc</th>\n",
       "      <th>locgeo</th>\n",
       "      <th>regione</th>\n",
       "      <th>provincia</th>\n",
       "      <th>...</th>\n",
       "      <th>prof</th>\n",
       "      <th>esito</th>\n",
       "      <th>scopo</th>\n",
       "      <th>uso</th>\n",
       "      <th>posizione</th>\n",
       "      <th>stato</th>\n",
       "      <th>lon_wgs84</th>\n",
       "      <th>lat_wgs84</th>\n",
       "      <th>tr</th>\n",
       "      <th>pdf</th>\n",
       "    </tr>\n",
       "    <tr>\n",
       "      <th>key</th>\n",
       "      <th></th>\n",
       "      <th></th>\n",
       "      <th></th>\n",
       "      <th></th>\n",
       "      <th></th>\n",
       "      <th></th>\n",
       "      <th></th>\n",
       "      <th></th>\n",
       "      <th></th>\n",
       "      <th></th>\n",
       "      <th></th>\n",
       "      <th></th>\n",
       "      <th></th>\n",
       "      <th></th>\n",
       "      <th></th>\n",
       "      <th></th>\n",
       "      <th></th>\n",
       "      <th></th>\n",
       "      <th></th>\n",
       "      <th></th>\n",
       "      <th></th>\n",
       "    </tr>\n",
       "  </thead>\n",
       "  <tbody>\n",
       "    <tr>\n",
       "      <th>9909</th>\n",
       "      <td>2289</td>\n",
       "      <td>ACERNO 1</td>\n",
       "      <td>404230</td>\n",
       "      <td>23520,72</td>\n",
       "      <td>456</td>\n",
       "      <td>ACERNO</td>\n",
       "      <td>NaN</td>\n",
       "      <td>NaN</td>\n",
       "      <td>CAMPANIA</td>\n",
       "      <td>SALERNO</td>\n",
       "      <td>...</td>\n",
       "      <td>4625</td>\n",
       "      <td>STERILE</td>\n",
       "      <td>IDROCARBURI</td>\n",
       "      <td>NESSUNO</td>\n",
       "      <td>TERRA</td>\n",
       "      <td>CEMENTATO</td>\n",
       "      <td>15,04133623</td>\n",
       "      <td>40,70897352</td>\n",
       "      <td>4,2</td>\n",
       "      <td>&lt;a href=\"http://unmig.mise.gov.it/deposito/poz...</td>\n",
       "    </tr>\n",
       "    <tr>\n",
       "      <th>12930</th>\n",
       "      <td>2125</td>\n",
       "      <td>PC 20</td>\n",
       "      <td>425046,8</td>\n",
       "      <td>4433,4</td>\n",
       "      <td>560</td>\n",
       "      <td>PIANCASTAGNAIO</td>\n",
       "      <td>MONTE AMIATA D</td>\n",
       "      <td>NaN</td>\n",
       "      <td>TOSCANA</td>\n",
       "      <td>SIENA</td>\n",
       "      <td>...</td>\n",
       "      <td>544</td>\n",
       "      <td>FLUIDO GEOTERMICO</td>\n",
       "      <td>GEOTERMICO</td>\n",
       "      <td>NON INDICATO</td>\n",
       "      <td>TERRA</td>\n",
       "      <td>IN PRODUZIONE</td>\n",
       "      <td>11,70949795</td>\n",
       "      <td>42,84698426</td>\n",
       "      <td>NaN</td>\n",
       "      <td>&lt;a href=\"http://unmig.mise.gov.it/deposito/poz...</td>\n",
       "    </tr>\n",
       "  </tbody>\n",
       "</table>\n",
       "<p>2 rows × 23 columns</p>\n",
       "</div>"
      ],
      "text/plain": [
       "        oid      nome       lat       lon quota         entitam  \\\n",
       "key                                                               \n",
       "9909   2289  ACERNO 1    404230  23520,72   456          ACERNO   \n",
       "12930  2125     PC 20  425046,8    4433,4   560  PIANCASTAGNAIO   \n",
       "\n",
       "              camploc locgeo   regione provincia  ...  prof  \\\n",
       "key                                               ...         \n",
       "9909              NaN    NaN  CAMPANIA   SALERNO  ...  4625   \n",
       "12930  MONTE AMIATA D    NaN   TOSCANA     SIENA  ...   544   \n",
       "\n",
       "                   esito        scopo           uso posizione          stato  \\\n",
       "key                                                                            \n",
       "9909             STERILE  IDROCARBURI       NESSUNO     TERRA      CEMENTATO   \n",
       "12930  FLUIDO GEOTERMICO   GEOTERMICO  NON INDICATO     TERRA  IN PRODUZIONE   \n",
       "\n",
       "         lon_wgs84    lat_wgs84   tr  \\\n",
       "key                                    \n",
       "9909   15,04133623  40,70897352  4,2   \n",
       "12930  11,70949795  42,84698426  NaN   \n",
       "\n",
       "                                                     pdf  \n",
       "key                                                       \n",
       "9909   <a href=\"http://unmig.mise.gov.it/deposito/poz...  \n",
       "12930  <a href=\"http://unmig.mise.gov.it/deposito/poz...  \n",
       "\n",
       "[2 rows x 23 columns]"
      ]
     },
     "execution_count": 36,
     "metadata": {},
     "output_type": "execute_result"
    }
   ],
   "source": [
    "pozzi.set_index('key').head(2)"
   ]
  },
  {
   "cell_type": "code",
   "execution_count": 37,
   "metadata": {},
   "outputs": [
    {
     "data": {
      "text/html": [
       "<div>\n",
       "<style scoped>\n",
       "    .dataframe tbody tr th:only-of-type {\n",
       "        vertical-align: middle;\n",
       "    }\n",
       "\n",
       "    .dataframe tbody tr th {\n",
       "        vertical-align: top;\n",
       "    }\n",
       "\n",
       "    .dataframe thead th {\n",
       "        text-align: right;\n",
       "    }\n",
       "</style>\n",
       "<table border=\"1\" class=\"dataframe\">\n",
       "  <thead>\n",
       "    <tr style=\"text-align: right;\">\n",
       "      <th></th>\n",
       "      <th>X</th>\n",
       "      <th>Y</th>\n",
       "      <th>nome</th>\n",
       "      <th>nomeunita1</th>\n",
       "      <th>nomeunita2</th>\n",
       "      <th>daprof</th>\n",
       "      <th>aprof</th>\n",
       "      <th>litologia</th>\n",
       "      <th>posizione</th>\n",
       "      <th>rango</th>\n",
       "      <th>etarel</th>\n",
       "      <th>a</th>\n",
       "      <th>oid</th>\n",
       "    </tr>\n",
       "    <tr>\n",
       "      <th>key</th>\n",
       "      <th></th>\n",
       "      <th></th>\n",
       "      <th></th>\n",
       "      <th></th>\n",
       "      <th></th>\n",
       "      <th></th>\n",
       "      <th></th>\n",
       "      <th></th>\n",
       "      <th></th>\n",
       "      <th></th>\n",
       "      <th></th>\n",
       "      <th></th>\n",
       "      <th></th>\n",
       "    </tr>\n",
       "  </thead>\n",
       "  <tbody>\n",
       "    <tr>\n",
       "      <th>124</th>\n",
       "      <td>NaN</td>\n",
       "      <td>NaN</td>\n",
       "      <td>180</td>\n",
       "      <td>MANCANZA DATI</td>\n",
       "      <td>NaN</td>\n",
       "      <td>Unità</td>\n",
       "      <td>NaN</td>\n",
       "      <td>NaN</td>\n",
       "      <td>NaN</td>\n",
       "      <td>NaN</td>\n",
       "      <td>NaN</td>\n",
       "      <td>NaN</td>\n",
       "      <td>NaN</td>\n",
       "    </tr>\n",
       "    <tr>\n",
       "      <th>180</th>\n",
       "      <td>NaN</td>\n",
       "      <td>NaN</td>\n",
       "      <td>340</td>\n",
       "      <td>GHIAIE CON INTERCALATE SABBIE E ARGILLE</td>\n",
       "      <td>NaN</td>\n",
       "      <td>Unità</td>\n",
       "      <td>NaN</td>\n",
       "      <td>NaN</td>\n",
       "      <td>NaN</td>\n",
       "      <td>NaN</td>\n",
       "      <td>NaN</td>\n",
       "      <td>NaN</td>\n",
       "      <td>NaN</td>\n",
       "    </tr>\n",
       "  </tbody>\n",
       "</table>\n",
       "</div>"
      ],
      "text/plain": [
       "       X    Y nome                               nomeunita1 nomeunita2 daprof  \\\n",
       "key                                                                             \n",
       "124  NaN  NaN  180                            MANCANZA DATI        NaN  Unità   \n",
       "180  NaN  NaN  340  GHIAIE CON INTERCALATE SABBIE E ARGILLE        NaN  Unità   \n",
       "\n",
       "    aprof litologia posizione rango etarel    a  oid  \n",
       "key                                                   \n",
       "124   NaN       NaN       NaN   NaN    NaN  NaN  NaN  \n",
       "180   NaN       NaN       NaN   NaN    NaN  NaN  NaN  "
      ]
     },
     "execution_count": 37,
     "metadata": {},
     "output_type": "execute_result"
    }
   ],
   "source": [
    "pozzi_litstr.set_index('key').head(2)"
   ]
  },
  {
   "cell_type": "code",
   "execution_count": 38,
   "metadata": {},
   "outputs": [
    {
     "data": {
      "text/html": [
       "<div>\n",
       "<style scoped>\n",
       "    .dataframe tbody tr th:only-of-type {\n",
       "        vertical-align: middle;\n",
       "    }\n",
       "\n",
       "    .dataframe tbody tr th {\n",
       "        vertical-align: top;\n",
       "    }\n",
       "\n",
       "    .dataframe thead th {\n",
       "        text-align: right;\n",
       "    }\n",
       "</style>\n",
       "<table border=\"1\" class=\"dataframe\">\n",
       "  <thead>\n",
       "    <tr style=\"text-align: right;\">\n",
       "      <th></th>\n",
       "      <th>X</th>\n",
       "      <th>Y</th>\n",
       "      <th>nome</th>\n",
       "      <th>data</th>\n",
       "      <th>prof</th>\n",
       "      <th>temp</th>\n",
       "      <th>tcirc</th>\n",
       "      <th>tstop</th>\n",
       "      <th>metodo</th>\n",
       "      <th>oid</th>\n",
       "    </tr>\n",
       "    <tr>\n",
       "      <th>key</th>\n",
       "      <th></th>\n",
       "      <th></th>\n",
       "      <th></th>\n",
       "      <th></th>\n",
       "      <th></th>\n",
       "      <th></th>\n",
       "      <th></th>\n",
       "      <th></th>\n",
       "      <th></th>\n",
       "      <th></th>\n",
       "    </tr>\n",
       "  </thead>\n",
       "  <tbody>\n",
       "    <tr>\n",
       "      <th>76775</th>\n",
       "      <td>10,86366384</td>\n",
       "      <td>43,22370644</td>\n",
       "      <td>100</td>\n",
       "      <td>10/06/87</td>\n",
       "      <td>0</td>\n",
       "      <td>223</td>\n",
       "      <td>NaN</td>\n",
       "      <td>NaN</td>\n",
       "      <td>0</td>\n",
       "      <td>16184</td>\n",
       "    </tr>\n",
       "    <tr>\n",
       "      <th>590093</th>\n",
       "      <td>10,86268771</td>\n",
       "      <td>43,23436398</td>\n",
       "      <td>101</td>\n",
       "      <td>12/06/87</td>\n",
       "      <td>0</td>\n",
       "      <td>220</td>\n",
       "      <td>NaN</td>\n",
       "      <td>NaN</td>\n",
       "      <td>0</td>\n",
       "      <td>16185</td>\n",
       "    </tr>\n",
       "  </tbody>\n",
       "</table>\n",
       "</div>"
      ],
      "text/plain": [
       "                  X            Y nome      data prof temp tcirc tstop  metodo  \\\n",
       "key                                                                             \n",
       "76775   10,86366384  43,22370644  100  10/06/87    0  223   NaN   NaN       0   \n",
       "590093  10,86268771  43,23436398  101  12/06/87    0  220   NaN   NaN       0   \n",
       "\n",
       "          oid  \n",
       "key            \n",
       "76775   16184  \n",
       "590093  16185  "
      ]
     },
     "execution_count": 38,
     "metadata": {},
     "output_type": "execute_result"
    }
   ],
   "source": [
    "pozzi_temp.set_index('key').head(2)"
   ]
  },
  {
   "cell_type": "code",
   "execution_count": null,
   "metadata": {},
   "outputs": [],
   "source": []
  },
  {
   "cell_type": "code",
   "execution_count": null,
   "metadata": {},
   "outputs": [],
   "source": []
  }
 ],
 "metadata": {
  "kernelspec": {
   "display_name": "Python 3.7.4 64-bit ('base': conda)",
   "language": "python",
   "name": "python37464bitbasecondab48185c5397547caa067643c5feff9fa"
  },
  "language_info": {
   "codemirror_mode": {
    "name": "ipython",
    "version": 3
   },
   "file_extension": ".py",
   "mimetype": "text/x-python",
   "name": "python",
   "nbconvert_exporter": "python",
   "pygments_lexer": "ipython3",
   "version": "3.7.7"
  }
 },
 "nbformat": 4,
 "nbformat_minor": 4
}
