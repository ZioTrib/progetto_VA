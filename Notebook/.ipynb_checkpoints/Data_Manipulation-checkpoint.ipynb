{
 "cells": [
  {
   "cell_type": "markdown",
   "metadata": {},
   "source": [
    "# Libreries"
   ]
  },
  {
   "cell_type": "code",
   "execution_count": 213,
   "metadata": {},
   "outputs": [],
   "source": [
    "%matplotlib inline\n",
    "\n",
    "import numpy as np\n",
    "import pandas as pd\n",
    "import matplotlib.pyplot as plt\n",
    "from collections import defaultdict"
   ]
  },
  {
   "cell_type": "markdown",
   "metadata": {},
   "source": [
    "# Data Import"
   ]
  },
  {
   "cell_type": "code",
   "execution_count": 214,
   "metadata": {},
   "outputs": [],
   "source": [
    "pozzi = pd.read_csv('/Users/danieletribuzio/Documents/GitHub/progetto_VA/DataSet/pozzi_4326.csv',\n",
    "                    sep = ';')\n",
    "pozzi_litstr = pd.read_csv('/Users/danieletribuzio/Documents/GitHub/progetto_VA/DataSet/pozzi_litstr_epsg4326.csv',\n",
    "                           sep = ';')\n",
    "pozzi_temp = pd.read_csv('/Users/danieletribuzio/Documents/GitHub/progetto_VA/DataSet/pozzi_temperature_epsg4326.csv',\n",
    "                         sep = ';')"
   ]
  },
  {
   "cell_type": "code",
   "execution_count": 215,
   "metadata": {},
   "outputs": [
    {
     "data": {
      "text/plain": [
       "3806"
      ]
     },
     "execution_count": 215,
     "metadata": {},
     "output_type": "execute_result"
    }
   ],
   "source": [
    "len(pozzi)"
   ]
  },
  {
   "cell_type": "code",
   "execution_count": 216,
   "metadata": {},
   "outputs": [
    {
     "data": {
      "text/plain": [
       "9531"
      ]
     },
     "execution_count": 216,
     "metadata": {},
     "output_type": "execute_result"
    }
   ],
   "source": [
    "len(pozzi_litstr)"
   ]
  },
  {
   "cell_type": "code",
   "execution_count": 217,
   "metadata": {},
   "outputs": [
    {
     "data": {
      "text/plain": [
       "12654"
      ]
     },
     "execution_count": 217,
     "metadata": {},
     "output_type": "execute_result"
    }
   ],
   "source": [
    "len(pozzi_temp)"
   ]
  },
  {
   "cell_type": "markdown",
   "metadata": {},
   "source": [
    "## index selection"
   ]
  },
  {
   "cell_type": "markdown",
   "metadata": {},
   "source": [
    "## missing values"
   ]
  },
  {
   "cell_type": "code",
   "execution_count": 218,
   "metadata": {},
   "outputs": [
    {
     "data": {
      "text/plain": [
       "key              0\n",
       "oid              0\n",
       "nome             0\n",
       "lat              1\n",
       "lon              1\n",
       "quota           32\n",
       "entitam        520\n",
       "camploc       2510\n",
       "locgeo        3101\n",
       "regione          0\n",
       "provincia        0\n",
       "tipo             0\n",
       "proprietar     219\n",
       "datacomp        76\n",
       "prof           117\n",
       "esito            0\n",
       "scopo            0\n",
       "uso              0\n",
       "posizione        0\n",
       "stato            0\n",
       "lon_wgs84        1\n",
       "lat_wgs84        1\n",
       "tr            2453\n",
       "pdf             18\n",
       "dtype: int64"
      ]
     },
     "execution_count": 218,
     "metadata": {},
     "output_type": "execute_result"
    }
   ],
   "source": [
    "pozzi.isnull().sum()"
   ]
  },
  {
   "cell_type": "code",
   "execution_count": 219,
   "metadata": {},
   "outputs": [
    {
     "data": {
      "text/plain": [
       "X                0\n",
       "Y                0\n",
       "key              0\n",
       "nome             0\n",
       "nomeunita1    4300\n",
       "nomeunita2    8446\n",
       "daprof          37\n",
       "aprof           46\n",
       "litologia      630\n",
       "posizione     8816\n",
       "rango         4985\n",
       "etarel        1345\n",
       "a             7489\n",
       "oid            204\n",
       "dtype: int64"
      ]
     },
     "execution_count": 219,
     "metadata": {},
     "output_type": "execute_result"
    }
   ],
   "source": [
    "pozzi_litstr.isnull().sum()"
   ]
  },
  {
   "cell_type": "code",
   "execution_count": 220,
   "metadata": {},
   "outputs": [
    {
     "data": {
      "text/plain": [
       "X             0\n",
       "Y             0\n",
       "key           0\n",
       "nome          0\n",
       "data        108\n",
       "prof         13\n",
       "temp          5\n",
       "tcirc     11444\n",
       "tstop      9527\n",
       "metodo        0\n",
       "oid           0\n",
       "dtype: int64"
      ]
     },
     "execution_count": 220,
     "metadata": {},
     "output_type": "execute_result"
    }
   ],
   "source": [
    "pozzi_temp.isnull().sum()"
   ]
  },
  {
   "cell_type": "markdown",
   "metadata": {},
   "source": [
    "# Data understanding"
   ]
  },
  {
   "cell_type": "markdown",
   "metadata": {},
   "source": [
    "\n",
    "## understanding of variables"
   ]
  },
  {
   "cell_type": "markdown",
   "metadata": {},
   "source": [
    "### Pozzi"
   ]
  },
  {
   "cell_type": "code",
   "execution_count": 221,
   "metadata": {},
   "outputs": [
    {
     "data": {
      "text/plain": [
       "array(['STERILE', 'FLUIDO GEOTERMICO', 'INDUSTRIALMENTE STERILE',\n",
       "       'IDROCARBURI GASSOSI', 'NON DISPONIBILE', 'PETROLIO',\n",
       "       'INDIZIATO A GAS', 'MANIFESTAZIONI DI GAS', 'INDIZIATO A OLIO',\n",
       "       'MANIFESTA. DI GAS E OLIO', 'INDIZIATO A GAS E OLIO',\n",
       "       'MINERALIZZATO', 'INCIDENTATO E-O SOSPESO', 'ACQUA FREDDA',\n",
       "       'ANIDRIDE CARBONICA'], dtype=object)"
      ]
     },
     "execution_count": 221,
     "metadata": {},
     "output_type": "execute_result"
    }
   ],
   "source": [
    "pozzi['esito'].unique()"
   ]
  },
  {
   "cell_type": "code",
   "execution_count": 222,
   "metadata": {},
   "outputs": [
    {
     "data": {
      "text/plain": [
       "array(['IDROCARBURI', 'GEOTERMICO', 'NON INDICATO', 'MINERARIO',\n",
       "       'ACQUA FREDDA'], dtype=object)"
      ]
     },
     "execution_count": 222,
     "metadata": {},
     "output_type": "execute_result"
    }
   ],
   "source": [
    "pozzi['scopo'].unique()"
   ]
  },
  {
   "cell_type": "code",
   "execution_count": 223,
   "metadata": {},
   "outputs": [
    {
     "data": {
      "text/plain": [
       "array(['CEMENTATO', 'IN PRODUZIONE', 'NON INDICATO',\n",
       "       'CHIUSO TEMPORANEAMENTE', 'CHIUSO MINERARIAMENTE',\n",
       "       'TAPPATO E ABBANDONATO', 'ESAURITO', 'ABBANDONATO',\n",
       "       'COMPLETAMENTO DOPPIO', 'IN PROVA', 'IN REINIEZIONE', 'OSTRUITO'],\n",
       "      dtype=object)"
      ]
     },
     "execution_count": 223,
     "metadata": {},
     "output_type": "execute_result"
    }
   ],
   "source": [
    "pozzi['stato'].unique()"
   ]
  },
  {
   "cell_type": "code",
   "execution_count": 224,
   "metadata": {},
   "outputs": [
    {
     "data": {
      "text/plain": [
       "array(['NESSUNO', 'NON INDICATO', 'CONTROLLO', 'ENERGIA ELETTRICA',\n",
       "       'POTABILE', 'BALNEOTERAPEUTICO', 'AGROZOOTECNICO',\n",
       "       'PROCESSI INDUSTRIALI', 'STOCCAGGIO'], dtype=object)"
      ]
     },
     "execution_count": 224,
     "metadata": {},
     "output_type": "execute_result"
    }
   ],
   "source": [
    "pozzi['uso'].unique()"
   ]
  },
  {
   "cell_type": "code",
   "execution_count": 225,
   "metadata": {
    "collapsed": true,
    "jupyter": {
     "outputs_hidden": true
    }
   },
   "outputs": [
    {
     "data": {
      "text/plain": [
       "array(['AGIP', 'ENEL', 'JV:ENEL - AGIP', 'TOTAL', 'TERME LOPEZ',\n",
       "       'Sig. DAMIANI', 'AGIP-SHELL', 'Sig. CARUSO', 'SOC. ENI - SPI',\n",
       "       'AGIP-PETREX', 'AGIP-SEAGUL', nan, 'GULF ITALIA', 'CNR-ENEL',\n",
       "       'J.V.:AGIP-MONTEDISON', 'JV:ENEL-AGIP', 'TEXACO', 'AGIP-SIR',\n",
       "       'SIR', 'Sig. GACIUTTOLO E.', 'SOC. PETROL.ITAL.', 'FINA ITALIANA',\n",
       "       'CNR', 'Sig. REGINA', 'Nuova Solmine', 'Solvay', 'AGIP-SIR-ELF',\n",
       "       'AMOCO', 'SPI', 'SORI-SELM-ELF', 'SELENIA', 'CNR/ENEL',\n",
       "       'GLOBAL MARINE-MONTED.', 'PETREX-FINA-MURPHY', 'FIAT - RIMI',\n",
       "       'SORI', 'AGIP-MONTEDISON', 'AGIP-SELM-PETREX', 'Sig. ROMANO',\n",
       "       'Sig. SARDO', 'Sig. VIOLA', 'COPAREX', 'ENEL-AGIP', 'AGIP-ELF',\n",
       "       'ELF IDROC. ITALIANA', 'SICILIA CANADA PETROLI SPA', 'AGIP-TOTAL',\n",
       "       'Sig. ESPOSITO C.', 'Sig. PURZIANO C.', 'Sig. BABBO P.', 'SELM',\n",
       "       'ELF', 'Sig. CARANNANTE S.', 'Sig. GIANNOTTI', 'PETREX',\n",
       "       'MONTEDISON', 'PETROSUD SPA', 'MONTECATINI', 'SOC. M. AMIATA',\n",
       "       'SOC. M.AMIATA', 'EDISON GAS', 'AGIP SPA', 'AGIP MINERARIA',\n",
       "       'SOMICEM', 'ELF ITALIANA SPA', 'ADRIATIC PETROLEUM CORPORATION',\n",
       "       'ENI SPA', 'SNIA BPD', 'MONTECATINI EDISON',\n",
       "       'ELF-MONTEDISON-SORI-SIR-MURPHY ITALY OIL-ODECO ITALY OIL', 'ENI',\n",
       "       'ENI-AGIP', 'ELF ITALIANA MINERARIA', 'CONOCO',\n",
       "       'CONOCO IDROCARBURI SPA', 'MONTEDISON ', 'TERRA APULIAE',\n",
       "       'MONT MINERARIA SPA', 'FIAT RIMI', 'SAMET', 'AGIP-CONOCO',\n",
       "       'IDR CASTELGRANDE',\n",
       "       'AGIP-MOBIL-BRITISH GAS EXPLORATION-EDISON GAS SPA', 'PETROSUD',\n",
       "       \"SOCIETA' PETROLIFERA ITALIANA\", 'SNIA', 'AGIP-DEUTSCHE SHELL',\n",
       "       'MONTEDISON MILANO', 'COPAREX-SELM-PETREX',\n",
       "       'MINERARIA TEXAS ITALIANA', 'AMI AUSONIA MINERARIA',\n",
       "       'SIR-AGIP-ELF', 'SNIA VISCOSA IDROCARBURI',\n",
       "       'CONOCO-HYSPANOIL-NORSK HYDRO', 'MONTECATINI SPA', 'SILIPE SPA',\n",
       "       'SNIA VISCOSA', \"SOCIETA' PETROLIFERA ITALIANA FORNOVO TARO\",\n",
       "       'IDROCARBURI ARIANO', 'AGIP ?', 'PETROMARINE ITALIA SPA',\n",
       "       'TEXACO PETROLEUM ITALIA SPA', 'SNIA VISC.', 'AGIP-TEXACO-BRITISH',\n",
       "       'SNIA PBD', 'CHIARAVALLE FERRARA', 'AGIP-ENEL', 'MONTEDISON-AGIP',\n",
       "       'CASTELGRANDE SPA', \"SOCIETA' IDROCARBURI ABRUZZI\", 'CPI',\n",
       "       'AGIP-AMOCO', 'DELTA DRILLING CO', 'ITALREP', 'AGIP AGEO-SECE',\n",
       "       'SAFEN', 'CASTELGRANDE', 'AGIP-ELF ITALIANA',\n",
       "       'ENI SPA-AGIP-EDISON GAS SPA', 'ELF INTALIANA SPA', 'AGIP ',\n",
       "       \"SOCIETA' IDROCARBURI ARIANO\", 'SUP-IPEX', 'AGIP-AGEO-SECE',\n",
       "       'MONTECATINI-EDISON SPA', 'BP ITALIANA SPA',\n",
       "       'SNIA  BPD DIVISIONE MINERARIA', 'FIAT-RIMI',\n",
       "       'CONOCO IDROCARBURI-NORSK HYDRO-HISPANOIL',\n",
       "       'SNIA BPD-FINA ITALIANA-SORI', 'SNIA ', 'CHIETI',\n",
       "       'TRINACRIA IDROCARBURI', 'AGIP-DHELL-MCS',\n",
       "       'MONTEDISON-AGIP-ELF-COPAREX-ITALPEP', 'UNION TEXAS ITALIANA',\n",
       "       'ELI ESTRAZIONE LAVORAZIONE IDROCARBURI', 'AGIP-SELM-SNIA',\n",
       "       'GULF ITALIA COMPANY', 'GULF ITALIA CO.',\n",
       "       'AGIP-ELF ITALIANA MINERARIA-SELM-PETREX',\n",
       "       'ENTERPRISE OIL ITALIANA SPA', 'IDROCARBURI MERIDIONALI',\n",
       "       'COPAREX-SORI-FINA', 'SITAR', 'AGIP-SAGA', 'MONTECATINI-EDISON',\n",
       "       'CALAMONACI MINERARIA SPA', 'AGIP-ELF-PHILLIPS-TOTAL', 'SIAB',\n",
       "       \"SOCIETA' IDR. CASTELGRANDE\", 'AZIENDA CARBONI ITALIANA',\n",
       "       'MONTEDISON SPA', 'IDROCARBURI-ARIANO', 'AMI ITALIA',\n",
       "       'LERCARA SPA', 'GULF ITALIA CO', 'AGIP-ELF-PARAMBE', 'SARCIS SPA',\n",
       "       'SIM', 'SOC. METANO MERIDIONALE', 'IDROCARB-CASTELGRANDE',\n",
       "       'SORI-ELF', 'ITALMIN PETROLI SPA', 'AUSONIA MINERARIA SPA',\n",
       "       'LASMO INTERNATIONAL OIL DEVELOPMENT LTD', 'AGIP-SHELL-MCS',\n",
       "       'SORI-ELF-MONTED-SIR', 'CNW ITALIANA SPA',\n",
       "       'LASMO INTERNATIONAL LTD', 'AGIP-SNIA-PETREX', 'BRITISH GAS RIMI',\n",
       "       'SIR RICERCHE IDROCARBURI', 'DELTA OVERSEAS DILLING CO',\n",
       "       'ITALMINERARIA', 'AGIP-MONTEDISON-SNIA VISCOSA', 'AMOCO-AGIP',\n",
       "       'MONTEDISON-SNIA VISCOSA', 'AGIP DIREZIONE MINERARIA',\n",
       "       'ELF ITALIA MINERARIA', 'LASMO MINERARIA SPA', 'AGIP SPA-SHELL',\n",
       "       'SORI-ELF-ME-SIR', 'AGIP-SNIA', 'SORI-SIR-ELF-ME',\n",
       "       'SPI-BGR-EDISON GAS-PETROREP', 'IDR.CASTELGRANDE', 'RIPEA SPA',\n",
       "       'ENTERPRISE OIL EXPLORATION LTD', 'ARIANO IDROCARBURI', 'PETROGEO',\n",
       "       'AGIP-DEUTSCHE SHELL-SNIA', 'RICERCHE IDROCARBORI PRATESI',\n",
       "       'AGIP-SECE-GESO', 'ELF ITALIAN SPA', 'FINA ITALIANA SPA',\n",
       "       'AGIP-SOMIT', 'IDROCARBURI ARIANO SPA', \"SOCIETA' TERME S. ELENA\",\n",
       "       'MONTEDISON-AGIP-SNIA', 'ITALREP SPA', 'SARCIS', 'AGIP-FIAT RIMI',\n",
       "       'EDISON', 'PETREX-FIAT RIMI', 'AGIP/ELF ITALIANA',\n",
       "       'IDROCARBURI CASTELGRANDE SPA',\n",
       "       'SIR ESPLORAZIONI MEDITERRANEE SPA', 'SORI-PETREX-MONTEDISON',\n",
       "       'PETROPAR ITALIA', 'MONTEDISON-AGIP-ELF-BCW VALLEY-PETREX',\n",
       "       'LASMO', 'IDROCARBURI ARIANO (GR.MONTECATINI)', 'SIR IDROCARBURI',\n",
       "       'CLEIM SEAGULL', 'COMPAREX', 'VULCANO SPA', 'CORIS', 'CORIS.',\n",
       "       'RAVENNATE METANO', 'CISDA', 'SAIPEM', 'SOMIS', 'MISO SPA',\n",
       "       'PLATANI PETROLI SPA', \"L'AQUILEA MINERARIA\", 'MEDITERRANEAN OIL',\n",
       "       'SIB', 'SILIPE', 'AGIP-shell', 'AGIP/SHELL', 'ATP SPA', 'STI',\n",
       "       'SOIS', 'IDROC.SICILIANI', 'DEMANIALE', 'SCONOSCIUTO',\n",
       "       \"PETROLI DELL'ISOLA\", 'ARPE SPA', 'SIT', 'SIRI', 'CAPIZZI SPA',\n",
       "       'ESA', 'AGIP-ENEL-EMS', 'ACQUEDOTTO COMUNALE', 'FONDERIA S.GAVINO',\n",
       "       'PERGEMINE', 'STABIL. AURORA', 'FINA', 'TOTAL+BP+ENTER+FINA',\n",
       "       'J.V. ENEL-AGIP', 'Sig. SCOTTO L.', 'SIG.ELIA A.', 'ESAF',\n",
       "       'SIG.LUBRANO A.', 'SECE+AGEO', 'J.V. AGIP-MONTEDIS.',\n",
       "       'IDROC.C.GRANDE', 'TERNI', 'J.V. AGIP-SPI', 'J.V. AGIP-SIAB',\n",
       "       'PTX-AG-FG-TOTAL-PPM', 'PTX-FG-PPM-SEM', 'PONTINA METANO',\n",
       "       'PETREX-ELF', 'PTX-ELF', 'EX LARDERELLO S.P.A.', 'ACEA', 'RIPEA',\n",
       "       'M.AMIATA', 'MONTE AMIATA', 'AGIP-BP-DS', 'CORIMI',\n",
       "       'J.V.  AGIP-TOTAL-FINA', 'AG-CRM-FN', 'TERME CASCIANA',\n",
       "       'PTX/AC/ENP/TCP', 'AGIP-TOTAL-FINA', 'AGIP-FINA',\n",
       "       'J.V. AGIP-UCRIAS', 'J.V. SPI-SELM', 'J.V. AGIP-ENEL',\n",
       "       'J.V. AGIP-CNR'], dtype=object)"
      ]
     },
     "execution_count": 225,
     "metadata": {},
     "output_type": "execute_result"
    }
   ],
   "source": [
    "pozzi['proprietar'].unique()"
   ]
  },
  {
   "cell_type": "markdown",
   "metadata": {},
   "source": [
    "## pozzi litho"
   ]
  },
  {
   "cell_type": "code",
   "execution_count": 226,
   "metadata": {},
   "outputs": [
    {
     "data": {
      "text/plain": [
       "array(['ARGILLITE-CALCARE', 'ARGILLITE-CALCARE MARNOSO', nan, ...,\n",
       "       'MARNE GRIGIO SCURE E NERASTRE CARBONIOSO-BITUMINOSE CON INTERCALAZIONI DI MUDSTONE FOSSILIFERI, ARGILLOSI-SILTOSI, TALORA BITUMINOSI. ARENARIE LITICHE A GRANA FINE E MEDIA ROSSASTRE',\n",
       "       'BRECCIA MONOGENICA AD ELEMENTI DEI SOTTOSTANTI CALCARI DEL TROGKOFEL IN MATRICE ARGILLOSA ROSSA',\n",
       "       'PACKSTONE-GRAINSTONE INTRACLASTICI E FOSSILIFERI VOMPATTI, BIANCHI, NON FRATTURATI'],\n",
       "      dtype=object)"
      ]
     },
     "execution_count": 226,
     "metadata": {},
     "output_type": "execute_result"
    }
   ],
   "source": [
    "pozzi_litstr['litologia'].unique()"
   ]
  },
  {
   "cell_type": "code",
   "execution_count": 227,
   "metadata": {},
   "outputs": [
    {
     "data": {
      "text/plain": [
       "array(['Indefinita', nan, 'Formazione', 'Gruppo', 'GRUPPO', 'FORMAZIONE',\n",
       "       'INDEFINITA', 'indefinita', 'Undefinita', 'IINDEFINITA', 'MEMBRO',\n",
       "       'Indefinito', 'formazione', 'Formazioni', 'Indrfinita', 'Unità',\n",
       "       'gruppo', 'Insdefinita', 'Inedefinita', 'Membro', 'Gruppo ',\n",
       "       'GRIPPO', 'non inserita', 'FORMAZIONI', 'Filladi'], dtype=object)"
      ]
     },
     "execution_count": 227,
     "metadata": {},
     "output_type": "execute_result"
    }
   ],
   "source": [
    "pozzi_litstr['rango'].unique()"
   ]
  },
  {
   "cell_type": "code",
   "execution_count": 228,
   "metadata": {
    "collapsed": true,
    "jupyter": {
     "outputs_hidden": true
    }
   },
   "outputs": [
    {
     "data": {
      "text/plain": [
       "array(['CRETACEO', 'non inserita', 'QUATERNARIO', 'CRETACEO ',\n",
       "       'EOCENE SUP.', 'OLIGOCENE-S', 'PLIOCENE-INF.', \"ETA' IMPRECISATA\",\n",
       "       'CRETACEO-SUP', 'PALEOCENE', nan, 'NEOGENE', 'PLIOCENE',\n",
       "       'PLIOCENE-INF', 'GIURASSICO', 'PLIOCENE-I', 'TRIASSICO-INF',\n",
       "       'MIOCENE-SUP', 'OLIGOCENE', 'PLEISTOCENE', 'CRETACEO-INF',\n",
       "       'CRETACEO SUP.', 'OLOCENE', 'BARRESIANO', 'EOCENE',\n",
       "       'CRETACEO INF.', 'CRETACEO-S', 'CARBONIFERO', 'MIOCENE',\n",
       "       'CRETACEO-I', 'PLIOCENE-M', '?', 'EOCENE-MEDIO', 'MIOCENE INF.',\n",
       "       'ELVEZIANO', 'PLIOCENE SUP.', 'MIOCENE MED.', 'PLIOCENE INF.',\n",
       "       'TORTONIANO', 'TRIASSICO-S', 'MIOCENE SUP.', 'RECENTE',\n",
       "       'PLIOCENE-S', 'MESSINIANO', 'Miocene superiore',\n",
       "       \"ETA' IMPRECISABILE\", 'MIOCENE INFERIORE-MEDIO',\n",
       "       'Pliocene inferiore', 'NON DEFINITA', 'EOCENE MED.', 'CALABRIANO',\n",
       "       'PLEISTOCENE-S', 'OLIGOCENE-SUP', 'TRIASSICO', 'PLIOCENE MED.',\n",
       "       'LIAS', 'POST SICILIANO', 'TERZIARIO', 'OLIGOCENE SUP.',\n",
       "       'Quaternario', 'PLIOCENE PIACENZANO', 'PALEOZOICO', 'PLIOCENE SUP',\n",
       "       'LIAS INF. S.L.', 'PLIOCENE-MEDIO',\n",
       "       'PLIOCENE SUPERIORE-PLEISTOCENE', 'Trias', 'PLIOCENE INFERIORE',\n",
       "       'TRIAS', 'MIOCENE SUP', 'PONTICO', 'MALM', 'LIAS MED.SUP. SL',\n",
       "       'VILLAFRANCHIANO', 'PLIOCENE SUPERIORE', 'CENOMANIANO',\n",
       "       'OLIGOCENE SUPERIORE', 'HOLOCENE', 'PLEISTOCENE SUP',\n",
       "       'PLIOCENE INF', 'PLIOCENE MEDIO', 'SERRAVALLIANO',\n",
       "       'OLIGOCENE INF.', 'LIAS MED.SUP.SL', 'PLIOCENE MED-',\n",
       "       'MIOCENE MEDIO-INF (?)', 'SICILIANO',\n",
       "       'PLEISTOCENE PLIOCENE SUPERIORE', 'TRIASSICO-SUP', 'RETICO',\n",
       "       'LIAS MED.SUP SL', 'PLEISTOCENE SUPERIORE', 'PLIOCENE-PLEISTOCENE',\n",
       "       'TRIAS SUP.', 'LANGHIANO-SERRAVALLIANO', 'MIOCENE-S',\n",
       "       'LIAS INF.S.L.', 'LIAS-MED.SUP.SL', 'MIOCENE SUO.',\n",
       "       'LIAS-MED.SUP. SL', 'MIOCENE-MEDIO', 'CRETCEO', 'LIAS INF. S.L',\n",
       "       'TRIASSICO-M', 'GIURASSICO SUPERIORE-CRETACEO INFERIORE',\n",
       "       'PLESITOCENE', 'PLIOCENE MEDIO-SUP', 'MIOCENE-I', 'LANGHIANO',\n",
       "       'OLIGOCENE MED.', 'EOCENE-S', 'LIAS INF. SL', 'LIAS-INF',\n",
       "       'LIAS-MEDIO', 'PLEISTOCENE SUP.', 'AQUITANIANO',\n",
       "       'LIAS MED.INF. SL', 'LIAS INF S.L.', 'DOGGER',\n",
       "       'PLEISTOCENE/PLIOCENE', 'PLEISTOCENE-PLIOCENE SUPERIORE',\n",
       "       'LIAS INF.SL', 'PLIOCENE?', 'ALLOCTONO', 'TRIASSICO-S ',\n",
       "       'PLIOCENE INFERIORE-SUPERIORE/PLEISTOCENE',\n",
       "       'PLIOCENE MEDIO-SUPERIORE', 'PLIO-PLEISTOCENE', 'LIAS MED.SUP',\n",
       "       'TRIASSICO-MEDIO', 'EOCENE MEDIO', 'TERZIARIO-S', 'PALEOCENE-S',\n",
       "       'LIAS MEDIO', 'PALEOCENE MEDIO-SUP.', 'LIAS-MED. SUP. SL',\n",
       "       'CRETACEO MEDIO', 'PLIOCENE SUPERIORE-PLIOCENE MEDIO',\n",
       "       'LIAS SUPERIORE', 'PLEISTOCENE INFERIORE', 'PERMIANO',\n",
       "       'PLEISTOCENE-PLIOCENE', 'TRIAS SUPERIORE', 'MIOCENE MEDIO',\n",
       "       'PLEISTOCENE/PLIOCENE SUPERIORE-MEDIO', 'MIOCENE-M', 'PLAISTOCENE',\n",
       "       'BARRESSIANO', 'GIURASSICO MEDIO-SUPERIORE', 'EOCENE SUP',\n",
       "       'LIAS INF. SL.', \"ETA' IMèPRECISATA\", 'LIAS-INF S.L.',\n",
       "       'MAASTRICHTIANO', 'TRIASSICO SUP.', 'PALEOCENE?', 'MIOCENE SUP ',\n",
       "       'MIOCENE INF', 'LIAS INF.', 'TRIASSICO - S', 'PALEOGENE',\n",
       "       'HETTANGIANO', 'IMPRECISABILE', 'EOCENE INFERIORE',\n",
       "       'MIOCENE SUPERIORE', 'SINEMURIANO', 'LANGHIANO ',\n",
       "       'PLIOCENE INFERIORE-MEDIO-SUPERIORE',\n",
       "       'PLIOCENE SUPERIORE/MEDIO/INFERIORE', 'PLEISTOCENE INF.',\n",
       "       'PLIOCENE INFERIORE/MEDIO/SUPERIORE-PLEISTOCENE', 'BARREMIANO',\n",
       "       'ELVEZIANO-TORTONIANO', 'STEPHANIANO', 'VALANGINIANO',\n",
       "       'TORTONIANO-SERRAVALLIANO', 'ALBIANO', 'KIMMERIDGIANO',\n",
       "       'TITONIANO', 'MIOCENE INFERIORE', 'MIOCENE MEDIO-SUP', 'ALENIANO',\n",
       "       'PLEISTOCENE/PLIOCENE SUPERIORE, MEDIO, INFERIORE', 'IMPRECISATA',\n",
       "       'PLIENSBACHIANO', 'NORICO', 'MIOCENE-PLIOCENE',\n",
       "       'PLIOCENE SUPERIORE-MEDIO INFERIORE', 'AQUITANIANO-BURDIGALIANO',\n",
       "       'SILURIANO', 'MIOCENE SUP ?', 'SERAVALLINO-TORTONIANO',\n",
       "       'PLEISTOCENE-PLIOCENE SUPERIORE-MEDIO-INFERIORE',\n",
       "       'TORTONIANO-MESSINIANO INF.', 'LIAS INFERIORE', \"ETA' IMPRECISTA\",\n",
       "       'ORDOVICIANO', 'MIOCENE-INF', 'TRIAS INF.',\n",
       "       'PLIOCENE MEDIO-SIPERIOEW, PLEISTOCENE INFERIORE',\n",
       "       'TITONIANO-BERRIASIANO-VALANGINIANO', 'MIOCENE MEDIO-SUP.',\n",
       "       'LIAS SUP.', 'EOCENE SUPERIORE',\n",
       "       'PLIOCENE MEDIO-SUPERIORE/PLEISTOCENE', 'PLEISTOCENE?',\n",
       "       'OLIGOCENE-I', 'PLEISTOCENE-PLIOCENE SUPERIORE/MEDIO',\n",
       "       'CAMPANIANO-MAASTRICHTIANO-MIOCENE INFERIORE',\n",
       "       'PLIOCENE  SUPERIORE MEDIO INFERIORE', 'TRASSICO',\n",
       "       'PLIOCENE MEDIO?', 'TORTONIANO/SERRAVALLIANO/LANGHIANO',\n",
       "       'PLIOCENE MEDIO SUPERIORE', 'EOCENE INF.', 'OLIGOCENE INF',\n",
       "       'PLIOCENE SUPERIORE-MEDIO-INFERIORE', 'MIOCENE INF. PROB.',\n",
       "       'TRIASSICO SUP', 'TRIAS MED.', 'PLIOCENE MEDIO-PLIOCENE INFERIORE',\n",
       "       'TOARCIANO', 'AQUITANIANO-OLIGOCENE', 'OLIGOCENE-AQUITANIANO',\n",
       "       'OLIGOCENE?', 'PLIOCENE SUPERIORE/INFERIORE', 'NON DEFINIBILE',\n",
       "       'PIOCENE', 'TRIASSICO SUPERIORE', 'TRIA SUP.', 'EOCENE MED',\n",
       "       'PERMO-TRIAS', 'PLIOCENE INFERIORE-MESSINIANO',\n",
       "       'PLIOCENE MEDIO PARTE BASSA',\n",
       "       'PLEISTOCENE, PLIOCENE SUPERIORE-MEDIO-INFERIORE', 'APTIANO',\n",
       "       'PLIOCENE MEDIO/SUPERIORE', 'LIAS MED.SUP.SL.', 'CRETACEO SUP',\n",
       "       'PLIOCENE MEDIO-INFERIORE', 'PLIOCENE-QUATERNARIO',\n",
       "       'SERRAVAGLIANO', 'TURONIANO',\n",
       "       'PLEISTOCENE-PLIOCENE SUPERIORE MEDIO',\n",
       "       'MESSINIANO?-TORTONIANO-SERRAVALLIANO', 'PRECARBONIFERO',\n",
       "       'MESOZOICO', 'PLIOCENE INFERIORE/MEDIO',\n",
       "       'PLEOCENE MEDIO/SUPERIORE', 'MESSINIANO?', 'PRECAMBRIANO',\n",
       "       'CRETACEO INF', 'PLIOCENE MEDIO/INFERIORE', 'SENONIANO',\n",
       "       'EOCENE MEDIO-SUP.', 'SERRAVALLIANO probabile', 'LIAS ?',\n",
       "       'LANGHIANO-AQUITANIANO-LANGHIANO', 'OLIGOCENE MEDIO-SUP.',\n",
       "       'LIAS MED. SUP.SL', 'LIAS INF.-MEDIO',\n",
       "       'MESSINIANO-LANGHIANI-OLIGOCENE MED E INF-EOCENE SUP E MED',\n",
       "       'TRIASSICO SUP.?', 'MIOCENE INFERIORE-MIOCENE MEDIO', 'CAMPANIANO',\n",
       "       'SERRAVALLIANO PROB', 'WESTFALIANO', 'CRETACEO SUPERIORE',\n",
       "       'PLIOCENE SUPERIORE MEDIO', 'LIAS MED.', 'LIAS?',\n",
       "       'PLIOCENE MEDIO INFERIORE', 'CATTIANO', 'BERRASIANO-ALBIANO',\n",
       "       'TITONICO', 'MESSINIANO-TORTONIANO', 'NEOCOMIANO', 'LANGHIANO SUP',\n",
       "       'TITONICO SUPERIORE', 'SERRAVALLIANO PROB.', 'DOGGER INF.',\n",
       "       \"ETA' NON DEFINITA\",\n",
       "       'EOCENE/OLIGOCENE/MIOCENE INFERIORE/MESSINIANO', 'EOCENE SUP. ',\n",
       "       'PROBABILE MESSINIANO',\n",
       "       'EOCENE MED E INF-PALEOCENE-CRETACEO SUPERIORE',\n",
       "       'MESSINIANO-OLIGOCENE-EOCENE SUPERIORE/MEDIO', \"ETA' INDEFINITA\",\n",
       "       'SENONIANO SUPERIORE', 'PRECARBONIFERO ?',\n",
       "       'TORTONIANO/SERRAVALLIANO/LANGHIANO/AQUITANIANO/OLIGOCENE',\n",
       "       'CENONIANO-ALBIANO-APTIANO', 'APTIANO-ALBIANO',\n",
       "       'EOCENE-OLIGOCENE-TORTONIANO', 'TITONIANO-BARREMIANO',\n",
       "       'CRETACEO INFERIORE-TITONICO SUPERIORE', 'EOCENE MEDIO-SUP',\n",
       "       'TURONIANO-SENONIANO-PALEOCENE-EOCENE MEDIO/INFERIORE',\n",
       "       'LIAS INFERIORE-MEDIO', 'LANGHIANO INF', 'TRIAS MEDIO',\n",
       "       'APTIANO-ALBIANO-CENOMANIANO', 'SENONIANO-PALEOCENE-EOCENE',\n",
       "       'LIAS INFERIORE ', 'BARREMIANO-NEOCOMIANO-TITONICO SUPERIORE',\n",
       "       'EOCENE INFERIORE-MEDIO',\n",
       "       'TORTONIANO-SERRAVALLIANO,LANGHIANO, AQUITANIANO,EOC SUP',\n",
       "       'LIAS SUPERIORE/MEDIO', 'DOGGER-MALM', 'EOCENE INF',\n",
       "       'OLIGOCENE MEDIO/SUPERIORE', 'LADINICO',\n",
       "       'SENONIANO/PALEOCENE/EOCENE INFERIORE-MEDIO',\n",
       "       'MIOCENE INFERIORE-OLIGOCENE SUPERIORE',\n",
       "       'MIOCENE INFERIORE-OLIGOCENE-EOCENE SUPERIORE',\n",
       "       'OLIGOCENE-MIOCENE ?',\n",
       "       'EOCENE SUPERIORE E MEDIO-OLIGOCENE INF-EOCENE SUP E MEDIO',\n",
       "       'PERMIANO INF.', 'CENOMANINO', 'BARREMIANO/CENOMANIANO INFERIORE',\n",
       "       'OLIGOCENE MEDIO-SUPERIORE', 'OLIGOCENE MEDIO', 'TITONICO SUP.',\n",
       "       'PREPERMIANO', 'OLIGOCENE INFERIORE-EOCENE MEDIO/SUPERIORE',\n",
       "       'EOCENE MED-INF/PALEOCENE/SENONIANO SUPERIORE',\n",
       "       'NECOMIANO/TITONICO SUPERIORE',\n",
       "       'OLIGOCENE SUPERIORE-MEDIO-INFERIORE', 'EOCENE MEDIO/SUPERIORE',\n",
       "       'EOCENE MEDIO-INFERIORE -PALEOCENE-CRETACEO SUPERIORE',\n",
       "       'EOCENE SUPERIORE E MEDIO', 'AALENIANO/TOARCIANO',\n",
       "       'LIAS MEDIO-INFERIORE', 'CARNICO SUPERIORE', 'OLIGOCENE INFERIORE',\n",
       "       'CARNICO INFERIORE-LADINICO SUPERIORE', 'MASTRICHTIANO-CAMPANIANO',\n",
       "       'CARNICO INFERIORE/LADINICO SUPERIORE', 'CONIACIANO-SANTONIANO',\n",
       "       'CARNICO', 'NEOCOMIANO/APTIANO/ALBINO',\n",
       "       'CAMPANIANO-MAASTRICHTIANO', 'PALEOCENE SUP.', 'SCITICO',\n",
       "       'WERFENIANO', 'NEOCOMIANO-BARREMIANO', 'PERMIANO SUPERIORE',\n",
       "       'EOCENE SUPERIORE-MEDIO-INFERIORE', 'MLM-DOGGER',\n",
       "       'PERMIANO INFERIORE', 'TITONICO SUPERIOE', 'TRIASSICO INFERIORE',\n",
       "       'EOCENE-PALEOCENE-SENONIANO-TURONIANO', 'LUTEZIANO', 'PLAEOCENE',\n",
       "       'MAASTRCHTIANO-CAMPANIANO', 'SENONIANO SUP.',\n",
       "       'LIAS INFERIORE/MEDIO', 'HAUTERVIANO BARREMIANO',\n",
       "       'CRETACEO INFERIORE', 'NORICO-RETICO', 'TRIASSICO MEDIO',\n",
       "       'LADINICO SUPERIORE', 'ALBIANO/APTIANO',\n",
       "       'NEOCOMIANO/BARREMIANO-TITONICO SUPERIORE', 'ALBIANO-APTIANO',\n",
       "       'DOGGER-LIAS SUPERIORE', 'CARNICO INF.-MEDIO',\n",
       "       'SANTONIANO-CONIACIANO', 'CARNICO INF.', 'ANISICO',\n",
       "       'NORICO/RETICO ?', 'SCITICO? ANISICO INF.'], dtype=object)"
      ]
     },
     "execution_count": 228,
     "metadata": {},
     "output_type": "execute_result"
    }
   ],
   "source": [
    "pozzi_litstr['etarel'].unique()"
   ]
  },
  {
   "cell_type": "code",
   "execution_count": 229,
   "metadata": {
    "collapsed": true,
    "jupyter": {
     "outputs_hidden": true
    }
   },
   "outputs": [
    {
     "data": {
      "text/plain": [
       "array(['EOCENE', nan, 'CRETACEO INF.', 'AQUITANIANO', 'CRETACEO SUP.',\n",
       "       'MIOCENE SUP.', 'PLIOCENE', 'TRIASSICO', 'RETICO', 'CRETACEO',\n",
       "       'OLIGOCENE', 'PLIOCENE INF.', 'MALM', 'PALEOCENE', 'MIOCENE',\n",
       "       'OLIGOCENE SUP.', 'LANGHIANO', 'PLIOCENE-MEDIO', 'PLIOCENE SUP.',\n",
       "       \"ETA' NON DEFINITA\", 'EOCENE-SUP', 'PLIOCENE SUPERIORE',\n",
       "       'PLIOCENE MED.', 'EOCENE-INF', 'QUATERNARIO', 'OLOCENE',\n",
       "       'PLEISTOCENE SUP.', 'MESSINIANO', 'PLIOCENE-INF', 'TORTONIANO',\n",
       "       'EOCENE-S', 'MIOCENE INF.', 'PALEOCENE-S', 'SERRAVALLIANO',\n",
       "       'MIOCENE MED.', 'MIOCENE SUP', 'PONTICO', 'EOCENE INF.',\n",
       "       'MIOCENE INFERIORE', 'PLEISTOCENE', 'HOLOCENE', 'PLEISTOCENE SUP',\n",
       "       'PLIOCENE INF', 'PLIOCENE MEDIO', 'GIURASSICO-I', 'CALABRIANO',\n",
       "       'MIOCENE-INF', 'LIAS', 'NORICO', 'TRIAS MED.',\n",
       "       'MIOCENE INFERIORE-MEDIO', 'TRIASSICO-S', 'Permiano ?',\n",
       "       'PLIOCENE MEDIO-SUP', 'EOCENE-MEDIO', 'OLIGOCENE-S', 'GIURASSICO',\n",
       "       'CRETACEO-I', 'TRIASSICO-SUP', 'LIAS MED.SUP. SL',\n",
       "       'PLIOCENE INF.-MEDIO', 'TRIAS', 'EOCENE-I', 'LIAS INF.',\n",
       "       'LIAS INF. S.L.', 'TITONICO', 'TITONIANO', 'CRETACEO INFERIORE',\n",
       "       'PERMIANO', 'PLEISTOCENE SUPERIORE', 'PLIOCENE MEDIO-INF.',\n",
       "       'LIAS MEDIO', 'DOGGER', 'CRETACEO SUP', 'LIAS-INF', 'CRETACEO-S',\n",
       "       'TRIAS INF.', 'MIOCENE SUP ', 'OLIGOCENE-SUP', 'EOCENE SUP.',\n",
       "       'CENOMANIANO', 'PIOCENE MED.', 'MIOCENE SUPERIORE', 'TRIAS. INF.',\n",
       "       'EOCENE MED.', 'MIOCENE-S', 'MIOCENE-I', 'PALEOZOICO',\n",
       "       'BERRIASIANO', 'APTIANO', 'HAUTERIVIANO', 'BAJOCIANO',\n",
       "       'CRETACEO-INF', 'TOARCIANO', 'PRECAMBRIANO', 'CARBONIFERO SUP.',\n",
       "       'SINEMURIANO', 'HETTANGIANO', 'LIAS-SUP', 'ELVEZIANO',\n",
       "       'ORDOVICIANO', 'SILURIANO', 'PERMIANO SUP.', 'TRIAS SUP.',\n",
       "       'BATANIANO', 'EOCENE SUPERIORE', 'PLIOCEN MEDIO',\n",
       "       'OLIGOCENE-AQUITANIANO', 'PLEINSBACHIANO', 'PLIOCENE INFERIORE',\n",
       "       'CRETACEO ', 'EOCENE MED', '?', 'PLIOCENE MEDIO PARTE ALTA',\n",
       "       'BARREMIANO', 'EOCENE MEDIO', 'SENONIANO', 'MIOCENE INF',\n",
       "       'EOCENE INFERIORE', 'CRETACEO I', 'PALEOCENE INF.-MEDIO',\n",
       "       'LIAS MED.SUP.SL', 'MAASTRICHTIANO', 'TURONIANO', 'LIAS MED.',\n",
       "       'PLIOCENE INFERIOE', 'PLIOCENE SUP', 'OLIGOCENE MED.',\n",
       "       'OLIGOCENE MEDIO', 'KIMMERIDIGIANO-TITONIANO', 'ALBIANO',\n",
       "       'TRIASSICO INF.', 'OLIGOCENE INF.', 'TITONICO INFERIORE',\n",
       "       'BURDIGALIANO SUP', 'EOCENE MEDIO-SUP', 'NEOCOMIANO',\n",
       "       'LANGHIANO INF', 'TRIAS SUPERIORE', 'HAUTERVIANO', 'EOCENE SUP',\n",
       "       'LIAS INFERIORE', 'TITONICO SUP.', 'OLIGOCENE INFERIORE/MEDIO',\n",
       "       'LADINICO', 'PALEOCENE MED.', 'PALEOCENE-EOCENE INFERIORE/MEDIO',\n",
       "       'LIAS SUP.', 'CARNICO', 'NEOCOMIANO-BARREMIANO',\n",
       "       'PALEOCENE-EOCENE INF.', 'SCITICO', 'ANISICO',\n",
       "       'BERRIASIANO VALANGINIANO', 'TRIA INF.'], dtype=object)"
      ]
     },
     "execution_count": 229,
     "metadata": {},
     "output_type": "execute_result"
    }
   ],
   "source": [
    "pozzi_litstr['a'].unique()"
   ]
  },
  {
   "cell_type": "code",
   "execution_count": 230,
   "metadata": {},
   "outputs": [
    {
     "data": {
      "text/plain": [
       "array([nan, 'ALLOCTONO', 'AUTOCTONO', 'PARAUTOCTO', 'Alloctono',\n",
       "       'NEOAUTOCTO'], dtype=object)"
      ]
     },
     "execution_count": 230,
     "metadata": {},
     "output_type": "execute_result"
    }
   ],
   "source": [
    "pozzi_litstr['posizione'].unique()"
   ]
  },
  {
   "cell_type": "markdown",
   "metadata": {},
   "source": [
    "## pozzi temp"
   ]
  },
  {
   "cell_type": "code",
   "execution_count": 231,
   "metadata": {
    "collapsed": true,
    "jupyter": {
     "outputs_hidden": true
    }
   },
   "outputs": [
    {
     "data": {
      "text/plain": [
       "array([nan, '4', '6', '7', '9', '13', '1', '2,5', '2', '9,25', '2,75',\n",
       "       '0,5', '2,2', '3', '1,5', '1,25', '5,5', '10', '4,5', '8', '1,75',\n",
       "       '2,25', '2,15', '3,75', '6,5', '3,5', '5', '75', '64,3', '10,5',\n",
       "       '1,35', '5,25', '8,5', '1,3', '39', '96', '2,17', '1,15', '5,75',\n",
       "       '0,75', '0,7', '3,25', '6,25', '4,75', '17', '18', '15', '7,5',\n",
       "       '3,45', '0,45', '1,45', '2,3', '3,35', '12,5', '0,35', '1,8',\n",
       "       '8,1', '4,7', '6,75', '4,85', '1,83', '4,25', '0,3', '5,33'],\n",
       "      dtype=object)"
      ]
     },
     "execution_count": 231,
     "metadata": {},
     "output_type": "execute_result"
    }
   ],
   "source": [
    "pozzi_temp['tcirc'].unique()"
   ]
  },
  {
   "cell_type": "code",
   "execution_count": 232,
   "metadata": {
    "collapsed": true,
    "jupyter": {
     "outputs_hidden": true
    }
   },
   "outputs": [
    {
     "data": {
      "text/plain": [
       "array([nan, '0,75', '30', '48', '32', '291,3', '2,5', '4', '10', '7',\n",
       "       '4,5', '8', '7,5', '13,5', '19,5', '16,5', '23', '11', '21', '3',\n",
       "       '711', '13', '5', '9', '11,5', '8,5', '8,9', '9,5', '15', '15,5',\n",
       "       '10,25', '13,75', '6', '12', '14', '2', '17,5', '16,2', '23,5',\n",
       "       '9,75', '18,5', '22,5', '6,5', '16', '19,75', '27,5', '9,25', '20',\n",
       "       '24', '14,5', '18', '31', '4,25', '8,25', '10,5', '3,5', '5,5',\n",
       "       '7,6', '3,75', '20,5', '3,3', '17', '12,5', '29', '80,3', '52',\n",
       "       '49', '240', '120', '11,25', '6,25', '6,4', '273', '32,5', '21,5',\n",
       "       '40', '34', '699', '37,5', '20,25', '25', '30,5', '114', '156',\n",
       "       '17,25', '6,75', '8,75', '14,85', '6,65', '10,65', '12,75', '7,75',\n",
       "       '15,25', '11,75', '19', '28', '50', '22,65', '14,75', '6,6',\n",
       "       '29,25', '4,65', '14,65', '10,15', '18,25', '18,3', '321', '97',\n",
       "       '22,3', '0', '4,66', '6,66', '4,83', '13,25', '5,3', '8,3', '6,3',\n",
       "       '16,3', '23,3', '144', '12,3', '27', '35,5', '1064', '82', '99',\n",
       "       '43', '239', '17,3', '3,25', '22', '8,8', '8,15', '4,35', '10,33',\n",
       "       '5,37', '18,16', '12,1', '1,5', '12,35', '16,85', '76', '328',\n",
       "       '21,25', '26', '4,75', '170', '781', '45', '30,25', '22,25',\n",
       "       '25,75', '17,75', '33,5', '11,85', '96', '72', '100', '9,85',\n",
       "       '20,85', '25,5', '29,5', '9,35', '5,35', '5,15', '4,3', '9,15',\n",
       "       '10,3', '14,3', '14916', '136', '64', '0,79', '0,86', '0,89',\n",
       "       '21,75', '84', '5,25', '24,5', '5,75', '3,15', '7,83', '9,66',\n",
       "       '6,83', '0,32', '0,21', '124', '15,3', '11,15', '14,45', '21,3',\n",
       "       '21,2', '3,4', '15,75', '7,25', '7,15', '23,75', '31,5', '17,85',\n",
       "       '26,35', '1', '54', '98', '149', '13,3', '12,25', '7,4', '12,4',\n",
       "       '51,3', '165', '10,75', '19,3', '36,65', '266,5', '145,3', '60',\n",
       "       '2,15', '17,65', '159', '155', '324', '7,65', '11,35', '20,75',\n",
       "       '27,75', '13,6', '34,5', '16,25', '19,25', '18,15', '7,85',\n",
       "       '12,15', '7,3', '2,67', '14,35', '11,65', '18,6', '224,6', '308,3',\n",
       "       '400', '906', '16,75', '26,5', '11,6', '0,5', '7,33', '12,82',\n",
       "       '13,28', '87,5', '81,5', '15,15', '32,7', '28,7', '15,17', '18,42',\n",
       "       '20,15', '174', '6,45', '25,45', '5,87', '5,8', '238', '4,16',\n",
       "       '18,75', '41', '33', '36', '4,42', '13,83', '2,75', '35,25',\n",
       "       '27,25', '11,3', '260', '113', '134', '9,3', '341,4', '13,85',\n",
       "       '105', '933'], dtype=object)"
      ]
     },
     "execution_count": 232,
     "metadata": {},
     "output_type": "execute_result"
    }
   ],
   "source": [
    "pozzi_temp['tstop'].unique()"
   ]
  },
  {
   "cell_type": "code",
   "execution_count": 233,
   "metadata": {},
   "outputs": [
    {
     "data": {
      "text/plain": [
       "array([0, 1, 6, 7, 4, 2, 8, 3, 5])"
      ]
     },
     "execution_count": 233,
     "metadata": {},
     "output_type": "execute_result"
    }
   ],
   "source": [
    "pozzi_temp['metodo'].unique()"
   ]
  },
  {
   "cell_type": "markdown",
   "metadata": {},
   "source": [
    "# Attribute selection"
   ]
  },
  {
   "cell_type": "markdown",
   "metadata": {},
   "source": [
    "## pozzi"
   ]
  },
  {
   "cell_type": "code",
   "execution_count": 234,
   "metadata": {},
   "outputs": [],
   "source": [
    "pozzi = pozzi.drop(columns=['lon', 'lat', 'oid', 'locgeo', 'tr', 'pdf'])"
   ]
  },
  {
   "cell_type": "code",
   "execution_count": 235,
   "metadata": {},
   "outputs": [
    {
     "data": {
      "text/html": [
       "<div>\n",
       "<style scoped>\n",
       "    .dataframe tbody tr th:only-of-type {\n",
       "        vertical-align: middle;\n",
       "    }\n",
       "\n",
       "    .dataframe tbody tr th {\n",
       "        vertical-align: top;\n",
       "    }\n",
       "\n",
       "    .dataframe thead th {\n",
       "        text-align: right;\n",
       "    }\n",
       "</style>\n",
       "<table border=\"1\" class=\"dataframe\">\n",
       "  <thead>\n",
       "    <tr style=\"text-align: right;\">\n",
       "      <th></th>\n",
       "      <th>key</th>\n",
       "      <th>nome</th>\n",
       "      <th>quota</th>\n",
       "      <th>entitam</th>\n",
       "      <th>camploc</th>\n",
       "      <th>regione</th>\n",
       "      <th>provincia</th>\n",
       "      <th>tipo</th>\n",
       "      <th>proprietar</th>\n",
       "      <th>datacomp</th>\n",
       "      <th>prof</th>\n",
       "      <th>esito</th>\n",
       "      <th>scopo</th>\n",
       "      <th>uso</th>\n",
       "      <th>posizione</th>\n",
       "      <th>stato</th>\n",
       "      <th>lon_wgs84</th>\n",
       "      <th>lat_wgs84</th>\n",
       "    </tr>\n",
       "  </thead>\n",
       "  <tbody>\n",
       "    <tr>\n",
       "      <th>0</th>\n",
       "      <td>9909</td>\n",
       "      <td>ACERNO 1</td>\n",
       "      <td>456</td>\n",
       "      <td>ACERNO</td>\n",
       "      <td>NaN</td>\n",
       "      <td>CAMPANIA</td>\n",
       "      <td>SALERNO</td>\n",
       "      <td>POZZO DI ESPLORAZIONE</td>\n",
       "      <td>AGIP</td>\n",
       "      <td>05/03/96</td>\n",
       "      <td>4625</td>\n",
       "      <td>STERILE</td>\n",
       "      <td>IDROCARBURI</td>\n",
       "      <td>NESSUNO</td>\n",
       "      <td>TERRA</td>\n",
       "      <td>CEMENTATO</td>\n",
       "      <td>15,04133623</td>\n",
       "      <td>40,70897352</td>\n",
       "    </tr>\n",
       "    <tr>\n",
       "      <th>1</th>\n",
       "      <td>12930</td>\n",
       "      <td>PC 20</td>\n",
       "      <td>560</td>\n",
       "      <td>PIANCASTAGNAIO</td>\n",
       "      <td>MONTE AMIATA D</td>\n",
       "      <td>TOSCANA</td>\n",
       "      <td>SIENA</td>\n",
       "      <td>POZZO DI PRODUZIONE</td>\n",
       "      <td>ENEL</td>\n",
       "      <td>30/12/66</td>\n",
       "      <td>544</td>\n",
       "      <td>FLUIDO GEOTERMICO</td>\n",
       "      <td>GEOTERMICO</td>\n",
       "      <td>NON INDICATO</td>\n",
       "      <td>TERRA</td>\n",
       "      <td>IN PRODUZIONE</td>\n",
       "      <td>11,70949795</td>\n",
       "      <td>42,84698426</td>\n",
       "    </tr>\n",
       "    <tr>\n",
       "      <th>2</th>\n",
       "      <td>13237</td>\n",
       "      <td>LATERA 10D</td>\n",
       "      <td>420</td>\n",
       "      <td>VALENTANO</td>\n",
       "      <td>NaN</td>\n",
       "      <td>LAZIO</td>\n",
       "      <td>VITERBO</td>\n",
       "      <td>POZZO DI ESPLORAZIONE</td>\n",
       "      <td>JV:ENEL - AGIP</td>\n",
       "      <td>08/12/88</td>\n",
       "      <td>3557</td>\n",
       "      <td>INDUSTRIALMENTE STERILE</td>\n",
       "      <td>GEOTERMICO</td>\n",
       "      <td>NON INDICATO</td>\n",
       "      <td>TERRA</td>\n",
       "      <td>NON INDICATO</td>\n",
       "      <td>11,83592809</td>\n",
       "      <td>42,5995372</td>\n",
       "    </tr>\n",
       "  </tbody>\n",
       "</table>\n",
       "</div>"
      ],
      "text/plain": [
       "     key        nome quota         entitam         camploc   regione  \\\n",
       "0   9909    ACERNO 1   456          ACERNO             NaN  CAMPANIA   \n",
       "1  12930       PC 20   560  PIANCASTAGNAIO  MONTE AMIATA D   TOSCANA   \n",
       "2  13237  LATERA 10D   420       VALENTANO             NaN     LAZIO   \n",
       "\n",
       "  provincia                   tipo      proprietar  datacomp  prof  \\\n",
       "0   SALERNO  POZZO DI ESPLORAZIONE            AGIP  05/03/96  4625   \n",
       "1     SIENA    POZZO DI PRODUZIONE            ENEL  30/12/66   544   \n",
       "2   VITERBO  POZZO DI ESPLORAZIONE  JV:ENEL - AGIP  08/12/88  3557   \n",
       "\n",
       "                     esito        scopo           uso posizione  \\\n",
       "0                  STERILE  IDROCARBURI       NESSUNO     TERRA   \n",
       "1        FLUIDO GEOTERMICO   GEOTERMICO  NON INDICATO     TERRA   \n",
       "2  INDUSTRIALMENTE STERILE   GEOTERMICO  NON INDICATO     TERRA   \n",
       "\n",
       "           stato    lon_wgs84    lat_wgs84  \n",
       "0      CEMENTATO  15,04133623  40,70897352  \n",
       "1  IN PRODUZIONE  11,70949795  42,84698426  \n",
       "2   NON INDICATO  11,83592809   42,5995372  "
      ]
     },
     "execution_count": 235,
     "metadata": {},
     "output_type": "execute_result"
    }
   ],
   "source": [
    "pozzi.head(3)"
   ]
  },
  {
   "cell_type": "markdown",
   "metadata": {},
   "source": [
    "## pozzi litho"
   ]
  },
  {
   "cell_type": "code",
   "execution_count": 236,
   "metadata": {},
   "outputs": [],
   "source": [
    "pozzi_litstr = pozzi_litstr.drop(columns=['X', 'Y', 'nomeunita2', 'oid', 'posizione', 'rango'])"
   ]
  },
  {
   "cell_type": "code",
   "execution_count": 237,
   "metadata": {},
   "outputs": [
    {
     "data": {
      "text/html": [
       "<div>\n",
       "<style scoped>\n",
       "    .dataframe tbody tr th:only-of-type {\n",
       "        vertical-align: middle;\n",
       "    }\n",
       "\n",
       "    .dataframe tbody tr th {\n",
       "        vertical-align: top;\n",
       "    }\n",
       "\n",
       "    .dataframe thead th {\n",
       "        text-align: right;\n",
       "    }\n",
       "</style>\n",
       "<table border=\"1\" class=\"dataframe\">\n",
       "  <thead>\n",
       "    <tr style=\"text-align: right;\">\n",
       "      <th></th>\n",
       "      <th>key</th>\n",
       "      <th>nome</th>\n",
       "      <th>nomeunita1</th>\n",
       "      <th>daprof</th>\n",
       "      <th>aprof</th>\n",
       "      <th>litologia</th>\n",
       "      <th>etarel</th>\n",
       "      <th>a</th>\n",
       "    </tr>\n",
       "  </thead>\n",
       "  <tbody>\n",
       "    <tr>\n",
       "      <th>0</th>\n",
       "      <td>1001232</td>\n",
       "      <td>2</td>\n",
       "      <td>LIGURIDI S.L.</td>\n",
       "      <td>0</td>\n",
       "      <td>472,2</td>\n",
       "      <td>ARGILLITE-CALCARE</td>\n",
       "      <td>CRETACEO</td>\n",
       "      <td>EOCENE</td>\n",
       "    </tr>\n",
       "    <tr>\n",
       "      <th>1</th>\n",
       "      <td>1007672</td>\n",
       "      <td>5</td>\n",
       "      <td>LIGURIDI S.L.</td>\n",
       "      <td>0</td>\n",
       "      <td>490</td>\n",
       "      <td>ARGILLITE-CALCARE MARNOSO</td>\n",
       "      <td>CRETACEO</td>\n",
       "      <td>EOCENE</td>\n",
       "    </tr>\n",
       "    <tr>\n",
       "      <th>2</th>\n",
       "      <td>1007283</td>\n",
       "      <td>6</td>\n",
       "      <td>LIGURIDI S.L.</td>\n",
       "      <td>0</td>\n",
       "      <td>508</td>\n",
       "      <td>NaN</td>\n",
       "      <td>non inserita</td>\n",
       "      <td>NaN</td>\n",
       "    </tr>\n",
       "  </tbody>\n",
       "</table>\n",
       "</div>"
      ],
      "text/plain": [
       "       key nome     nomeunita1 daprof  aprof                  litologia  \\\n",
       "0  1001232    2  LIGURIDI S.L.      0  472,2          ARGILLITE-CALCARE   \n",
       "1  1007672    5  LIGURIDI S.L.      0    490  ARGILLITE-CALCARE MARNOSO   \n",
       "2  1007283    6  LIGURIDI S.L.      0    508                        NaN   \n",
       "\n",
       "         etarel       a  \n",
       "0      CRETACEO  EOCENE  \n",
       "1      CRETACEO  EOCENE  \n",
       "2  non inserita     NaN  "
      ]
     },
     "execution_count": 237,
     "metadata": {},
     "output_type": "execute_result"
    }
   ],
   "source": [
    "pozzi_litstr.head(3)"
   ]
  },
  {
   "cell_type": "markdown",
   "metadata": {},
   "source": [
    "## pozzi temp"
   ]
  },
  {
   "cell_type": "code",
   "execution_count": 238,
   "metadata": {},
   "outputs": [],
   "source": [
    "pozzi_temp = pozzi_temp.drop(columns=['X', 'Y', 'tcirc', 'tstop', 'metodo', 'oid'])"
   ]
  },
  {
   "cell_type": "code",
   "execution_count": 239,
   "metadata": {},
   "outputs": [
    {
     "data": {
      "text/html": [
       "<div>\n",
       "<style scoped>\n",
       "    .dataframe tbody tr th:only-of-type {\n",
       "        vertical-align: middle;\n",
       "    }\n",
       "\n",
       "    .dataframe tbody tr th {\n",
       "        vertical-align: top;\n",
       "    }\n",
       "\n",
       "    .dataframe thead th {\n",
       "        text-align: right;\n",
       "    }\n",
       "</style>\n",
       "<table border=\"1\" class=\"dataframe\">\n",
       "  <thead>\n",
       "    <tr style=\"text-align: right;\">\n",
       "      <th></th>\n",
       "      <th>key</th>\n",
       "      <th>nome</th>\n",
       "      <th>data</th>\n",
       "      <th>prof</th>\n",
       "      <th>temp</th>\n",
       "    </tr>\n",
       "  </thead>\n",
       "  <tbody>\n",
       "    <tr>\n",
       "      <th>0</th>\n",
       "      <td>76775</td>\n",
       "      <td>100</td>\n",
       "      <td>10/06/87</td>\n",
       "      <td>0</td>\n",
       "      <td>223</td>\n",
       "    </tr>\n",
       "    <tr>\n",
       "      <th>1</th>\n",
       "      <td>590093</td>\n",
       "      <td>101</td>\n",
       "      <td>12/06/87</td>\n",
       "      <td>0</td>\n",
       "      <td>220</td>\n",
       "    </tr>\n",
       "    <tr>\n",
       "      <th>2</th>\n",
       "      <td>335965</td>\n",
       "      <td>102</td>\n",
       "      <td>12/06/87</td>\n",
       "      <td>0</td>\n",
       "      <td>220</td>\n",
       "    </tr>\n",
       "  </tbody>\n",
       "</table>\n",
       "</div>"
      ],
      "text/plain": [
       "      key nome      data prof temp\n",
       "0   76775  100  10/06/87    0  223\n",
       "1  590093  101  12/06/87    0  220\n",
       "2  335965  102  12/06/87    0  220"
      ]
     },
     "execution_count": 239,
     "metadata": {},
     "output_type": "execute_result"
    }
   ],
   "source": [
    "pozzi_temp.head(3)"
   ]
  },
  {
   "cell_type": "markdown",
   "metadata": {},
   "source": [
    "# Exporting"
   ]
  },
  {
   "cell_type": "code",
   "execution_count": 212,
   "metadata": {},
   "outputs": [],
   "source": [
    "#pozzi.to_json('/Users/danieletribuzio/Documents/GitHub/progetto_VA/DataSet/pozzi.json')"
   ]
  },
  {
   "cell_type": "code",
   "execution_count": 240,
   "metadata": {},
   "outputs": [],
   "source": [
    "#pozzi_litstr.to_json('/Users/danieletribuzio/Documents/GitHub/progetto_VA/DataSet/pozzi_litstr.json')"
   ]
  },
  {
   "cell_type": "code",
   "execution_count": 241,
   "metadata": {},
   "outputs": [],
   "source": [
    "#pozzi_temp.to_json('/Users/danieletribuzio/Documents/GitHub/progetto_VA/DataSet/pozzi_temp.json')"
   ]
  }
 ],
 "metadata": {
  "kernelspec": {
   "display_name": "Python 3.7.4 64-bit ('base': conda)",
   "language": "python",
   "name": "python37464bitbasecondab48185c5397547caa067643c5feff9fa"
  },
  "language_info": {
   "codemirror_mode": {
    "name": "ipython",
    "version": 3
   },
   "file_extension": ".py",
   "mimetype": "text/x-python",
   "name": "python",
   "nbconvert_exporter": "python",
   "pygments_lexer": "ipython3",
   "version": "3.7.7"
  }
 },
 "nbformat": 4,
 "nbformat_minor": 4
}
